{
  "nbformat": 4,
  "nbformat_minor": 0,
  "metadata": {
    "colab": {
      "provenance": [],
      "authorship_tag": "ABX9TyMGHQRZOchZP9U48nqwQV0b",
      "include_colab_link": true
    },
    "kernelspec": {
      "name": "python3",
      "display_name": "Python 3"
    },
    "language_info": {
      "name": "python"
    }
  },
  "cells": [
    {
      "cell_type": "markdown",
      "metadata": {
        "id": "view-in-github",
        "colab_type": "text"
      },
      "source": [
        "<a href=\"https://colab.research.google.com/github/Daisy606/hello-colab/blob/main/%E6%96%B0%E8%81%9E%E8%AA%9E%E6%96%99%E9%97%9C%E9%8D%B5%E5%AD%97%E5%88%86%E6%9E%90.ipynb\" target=\"_parent\"><img src=\"https://colab.research.google.com/assets/colab-badge.svg\" alt=\"Open In Colab\"/></a>"
      ]
    },
    {
      "cell_type": "code",
      "execution_count": 7,
      "metadata": {
        "colab": {
          "base_uri": "https://localhost:8080/"
        },
        "id": "RjvNol8Uw3xA",
        "outputId": "09814f55-50c0-4b87-cd2e-6ba57f84d986"
      },
      "outputs": [
        {
          "output_type": "stream",
          "name": "stdout",
          "text": [
            "Looking in indexes: https://pypi.org/simple, https://us-python.pkg.dev/colab-wheels/public/simple/\n",
            "Requirement already satisfied: jieba in /usr/local/lib/python3.9/dist-packages (0.42.1)\n",
            "--2023-04-01 08:52:09--  https://raw.githubusercontent.com/fxsjy/jieba/master/extra_dict/dict.txt.big\n",
            "Resolving raw.githubusercontent.com (raw.githubusercontent.com)... 185.199.108.133, 185.199.109.133, 185.199.110.133, ...\n",
            "Connecting to raw.githubusercontent.com (raw.githubusercontent.com)|185.199.108.133|:443... connected.\n",
            "HTTP request sent, awaiting response... 200 OK\n",
            "Length: 8583143 (8.2M) [text/plain]\n",
            "Saving to: ‘dict.txt.big.4’\n",
            "\n",
            "dict.txt.big.4      100%[===================>]   8.18M  --.-KB/s    in 0.09s   \n",
            "\n",
            "2023-04-01 08:52:10 (94.1 MB/s) - ‘dict.txt.big.4’ saved [8583143/8583143]\n",
            "\n",
            "{' ': 49, '，': 22, '的': 13, '、': 11, '「': 9, '」': 9, '*': 7, '=': 6, '學': 6, '▪': 6, '題目': 5, 'A': 5, '？': 5, '有': 4, '考': 4, 'B': 4, '測': 4, '／': 4, '小': 3, '數學': 3, '複雜': 3, '是': 3, 'C': 3, '+': 3, '四年級': 2, '網友': 2, '解答': 2, '簡單': 2, '。': 2, '\\r': 2, '在': 2, '35': 2, '125': 2, '8': 2, '；': 2, '就': 2, '7': 2, '5': 2, '看': 2, '！': 2, '考生': 2, '也': 1, '一名': 1, '國': 1, '太': 1, '對此': 1, '不少': 1, '認': 1, '為': 1, '爆': 1, '怨': 1, '公社': 1, '算式': 1, '1000': 1, '會': 1, '等於': 1, '還是': 1, '-': 1, '教': 1, '課本': 1, '就是': 1, '訓練': 1, '112': 1, '一次': 1, '難': 1, '：': 1, '隨': 0, '時代': 0, '進步': 0, '國民': 0, '義務教育': 0, '教材': 0, '隨之': 0, '更動': 0, '近日': 0, '媽媽': 0, '抱怨': 0, '現在': 0, '因此': 0, '請教': 0, '相當': 0, '四則運算': 0, '當中': 0, '交換': 0, '率': 0, '概念': 0, '女網友': 0, '臉': 0, '書社': 0, '團': 0, '貼': 0, '出國': 0, '該': 0, '寫道': 0, '下列': 0, '中': 0, '請問': 0, '多少': 0, '原': 0, 'PO': 0, '甚至': 0, '崩潰': 0, '嘆': 0, '功課': 0, '就要': 0, '算': 0, '這種': 0, '我': 0, '年代': 0, '久遠': 0, '新': 0, '教學方式': 0, '不同': 0, '根本': 0, '出錯': 0, '並': 0, '提供': 0, '35000': 0, '跟': 0, '或是': 0, '不過': 0, '四': 0, '尚未': 0, '到': 0, '負數': 0, '乘法': 0, '所以': 0, '故': 0, '35012': 0, '還有': 0, '其他人': 0, '留言': 0, '表示': 0, '建構': 0, '式': 0, '觀察力': 0, '先': 0, '才': 0, '來': 0, '評論': 0, '都': 0, '不': 0, '結合律': 0, '分配律': 0, '交換律': 0, '只能': 0, '說': 0, '邏輯': 0, '不好': 0, '覺得': 0, '這麼': 0, '思考': 0, '其實': 0, '還': 0, '滿': 0, '不錯': 0, '沒有': 0, '計算': 0, '這個': 0, '階段': 0, '邏輯思維': 0, '【': 0, '文教': 0, '熱': 0, '話題': 0, '】': 0, '志願': 0, '怎麼': 0, '填': 0, '個': 0, '申': 0, '教戰': 0, '守則': 0, '大學': 0, '剉': 0, '咧': 0, '等': 0, 'ChatGPT': 0, '代寫': 0, '報告': 0, '檔': 0, '招': 0, '受': 0, '考驗': 0, '整理': 0, '包': 0, '完': 0, '對': 0, '答案': 0, '6': 0, '科': 0, '完整': 0, '試題': 0, '與': 0, '易': 0, '寫': 0, '工': 0, '作文題目': 0, '出爐': 0, '這類': 0, '恐難': 0, '發揮': 0, '數': 0, '佛心': 0, '秒殺': 0, '題': 0, '超': 0, '非': 0, '選': 0, '起碼': 0, '沒': 0, '去年': 0, '瘋狂': 0, '英文': 0, '作文': 0, '表情符號': 0, '閱讀': 0, '跨': 0, '地理': 0, '難易度': 0, '給': 0, '笑臉': 0, '專題': 0, '學習': 0, '歷程': 0, '別鬧': 0, '了': 0, '首屆': 0, '108': 0, '課': 0, '綱': 0, '生': 0, '心路': 0, '大': 0, '公開': 0, '隨時代進步，國民義務教育的教材也隨之更動，近日有一名媽媽抱怨現在國小四年級的數學題目太複雜，因此請教網友解答，對此不少網友認為題目相當簡單，題目考的是數學四則運算當中「交換率」的概念。 \\r 有一名女網友在臉書社團「爆怨公社」貼出國小四年級的數學，該題目寫道「在下列算式中，35*125*8=1000*A*B=C，請問A+B+C會等於多少？」，原PO甚至崩潰嘆，「四年級的功課就要算這種複雜的算式？是我學的年代太久遠？還是新的教學方式不同？還是根本出錯題目？」            \\r 對此，不少網友認為題目簡單並提供解答，「35*125*8=35000=C；125*8=1000；A*B=35；A跟B就等於7、5或是 -7、-5，不過小四尚未教到負數乘法，所以是7、5，故A+B+C=35012」。 \\r 還有其他人留言表示，「建構式數學，考觀察力的」、「先看課本才來評論，國小教的都是課本有的」、「不就是結合律、分配律、交換律」、「只能說邏輯不好就會覺得複雜，就這麼簡單」、「訓練思考，其實還滿不錯的，沒有複雜的計算，這個階段就是在訓練邏輯思維」。【文教熱話題】  ▪ 志願怎麼填？ 112學測個申教戰守則一次看  ▪ 大學剉咧等！ChatGPT代寫報告、學檔 考招受考驗  ▪ 112學測整理包／考完對答案 6科完整試題與解答一次看  ▪ 學測／易寫難工！作文題目出爐 這類考生恐難發揮  ▪ 學測／數A有佛心秒殺題、也有超難非選 考生：起碼沒去年瘋狂  ▪ 學測／英文作文考表情符號、閱讀跨地理 考生：難易度給笑臉  ▪ 專題／學習歷程，別鬧了！首屆108課綱生心路大公開     爆怨公社': 0}\n"
          ]
        }
      ],
      "source": [
        "import requests\n",
        "from bs4 import BeautifulSoup\n",
        "\n",
        "# 利用 requests 對 API 來源發送一個請求\n",
        "response = requests.get('https://udn.com/news/breaknews/1')\n",
        "soup = BeautifulSoup(response.text)\n",
        "\n",
        "news = [] #建立一個空的列表，用於存放新聞內容\n",
        "\n",
        "\n",
        "for link in soup.find_all('h3', class_='rounded-thumb__title')[:4]:\n",
        "    news_url = link.a['href']\n",
        "    news_response = requests.get('https://udn.com' + news_url)\n",
        "    news_soup = BeautifulSoup(news_response.text)\n",
        "    news_content = news_soup.find('div', class_='article-content__paragraph').text.strip().replace('\\n', ' ')\n",
        "    news.append(news_content)  #將新聞內容加入到 news 列表中\n",
        "\n",
        "#print(news) #印出所有新聞內容  \n",
        "\n",
        "\n",
        "# 安裝 jieba 中文斷詞套件\n",
        "#指令前加上 ! 符號即可在 Colab 中執行 pip 指令\n",
        "!pip install jieba \n",
        "\n",
        "# 下載官方字典檔\n",
        "!wget https://raw.githubusercontent.com/fxsjy/jieba/master/extra_dict/dict.txt.big\n",
        "\n",
        "\n",
        "# 載入套件與字典檔\n",
        "import jieba\n",
        "jieba.load_userdict(\"dict.txt.big\")\n",
        "\n",
        "\n",
        "\n",
        "# 精確模式斷詞\n",
        "token = []  #將每篇新聞文章斷詞後的結果存入 tokens 變數\n",
        "#for d in news:\n",
        "  #token.append(list(jieba.cut(d, HMM=False))) # token = d 字串斷詞結果\n",
        "\n",
        "for d in news:\n",
        "  token = list(jieba.cut(d, HMM=False)) # token = d 字串斷詞結果\n",
        "  token.append(d)\n",
        "\n",
        "#print(token)\n",
        "\n",
        "word_count = {}  #每個單字的出現次數（詞頻）\n",
        "for w in token:\n",
        "  if w not in word_count:\n",
        "      word_count[w] = 0\n",
        "  else:\n",
        "      word_count[w] = word_count[w] + 1  \n",
        "\n",
        "\n",
        "#print(word_count)\n",
        "# {'聲明': 4, '主管機關': 3, ...}\n",
        "\n",
        "# 依照出現次數由多到少進行排序\n",
        "#將每個單字的出現次數（詞頻）依照出現次數由多到少進行排序\n",
        "sorted_word_count = dict(sorted(word_count.items() , key = lambda x:x[1] , reverse = True))\n",
        "print(sorted_word_count)\n"
      ]
    }
  ]
}