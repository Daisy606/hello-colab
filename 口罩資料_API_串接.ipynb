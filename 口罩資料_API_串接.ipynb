{
  "nbformat": 4,
  "nbformat_minor": 0,
  "metadata": {
    "colab": {
      "provenance": [],
      "authorship_tag": "ABX9TyNMrr3ByDEXN+bVgiEQ9cwV",
      "include_colab_link": true
    },
    "kernelspec": {
      "name": "python3",
      "display_name": "Python 3"
    },
    "language_info": {
      "name": "python"
    }
  },
  "cells": [
    {
      "cell_type": "markdown",
      "metadata": {
        "id": "view-in-github",
        "colab_type": "text"
      },
      "source": [
        "<a href=\"https://colab.research.google.com/github/Daisy606/hello-colab/blob/main/%E5%8F%A3%E7%BD%A9%E8%B3%87%E6%96%99_API_%E4%B8%B2%E6%8E%A5.ipynb\" target=\"_parent\"><img src=\"https://colab.research.google.com/assets/colab-badge.svg\" alt=\"Open In Colab\"/></a>"
      ]
    },
    {
      "cell_type": "code",
      "source": [
        "import requests\n",
        "import json\n",
        "\n",
        "\n",
        "# 利用 requests 對 API 來源發送一個請求\n",
        "url = 'https://raw.githubusercontent.com/kiang/pharmacies/master/json/points.json'\n",
        "response = requests.get(url)\n",
        "\n",
        "# 將請求回應的內容存成一個字串格式\n",
        "d = response.text\n",
        "\n",
        "# 將長得像 json 格式的字串解析成字典或列表\n",
        "data = json.loads(d)\n",
        "\n",
        "#print(data)\n",
        "\n",
        "#計算各地區的藥局數量\n",
        "med_count = {}\n",
        "\n",
        "for i in data[\"features\"]:\n",
        "    \n",
        "    county_name = i[\"properties\"][\"address\"][0:3]\n",
        "    #修改Dictionary元素：於 [] 符號中輸入鍵(Key)的名稱，並且指派要修改的值(Value)給它\n",
        "    #使用get()方法，傳入要尋找的鍵(Key)名稱，它會回傳其值(Value)。\n",
        "    med_count[county_name] = med_count.get(county_name, 0) + 1\n",
        "    \n",
        "\n",
        "print(med_count)\n",
        "\n",
        "\n",
        "\n",
        "\n",
        "print(\"FIN\")\n"
      ],
      "metadata": {
        "colab": {
          "base_uri": "https://localhost:8080/"
        },
        "id": "kGlD8Fds7wdD",
        "outputId": "2a36eb10-4bd1-4e6f-be54-3cdc3974b74a"
      },
      "execution_count": 2,
      "outputs": [
        {
          "output_type": "stream",
          "name": "stdout",
          "text": [
            "{'臺北市': 340, '高雄市': 424, '臺中市': 436, '臺南市': 280, '基隆市': 57, '新竹市': 39, '嘉義市': 67, '新北市': 507, '桃園市': 271, '新竹縣': 48, '宜蘭縣': 76, '苗栗縣': 57, '彰化縣': 181, '南投縣': 67, '雲林縣': 131, '嘉義縣': 84, '屏東縣': 140, '澎湖縣': 11, '花蓮縣': 47, '臺東縣': 23, '金門縣': 6, '連江縣': 1}\n",
            "FIN\n"
          ]
        }
      ]
    }
  ]
}